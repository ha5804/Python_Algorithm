{
 "cells": [
  {
   "cell_type": "markdown",
   "metadata": {},
   "source": [
    "# 단어정렬\n",
    "    \n",
    "- 알파벳 소문자로 이루어진 N개의 단어를 길이가 짧고, 같으면 사전순으로 정렬하자."
   ]
  },
  {
   "cell_type": "markdown",
   "metadata": {},
   "source": [
    "    - (1) 길이비교\n",
    "    \n",
    "    - (2) 사전순 정렬"
   ]
  },
  {
   "cell_type": "code",
   "execution_count": 26,
   "metadata": {},
   "outputs": [
    {
     "name": "stdout",
     "output_type": "stream",
     "text": [
      "but\n",
      "cannot\n",
      "hesitate\n",
      "i\n",
      "im\n",
      "it\n",
      "more\n",
      "no\n",
      "wait\n",
      "wont\n",
      "yours\n"
     ]
    }
   ],
   "source": [
    "num_word = int(input())\n",
    "word_list = []\n",
    "for i in range(num_word):\n",
    "    word_ob = input()\n",
    "    word_list.append(word_ob)\n",
    "\n",
    "word_list = list(set(word_list))\n",
    "\n",
    "word_list.sort(key = len)\n",
    "word_list.sort()\n",
    "for i in word_list:\n",
    "    print(i)\n",
    "\n",
    "\n",
    "    \n",
    "    "
   ]
  },
  {
   "cell_type": "code",
   "execution_count": null,
   "metadata": {},
   "outputs": [
    {
     "name": "stdout",
     "output_type": "stream",
     "text": [
      "[1, 2, 3, 5, 8]\n"
     ]
    }
   ],
   "source": [
    "a = [ 1, 3, 5, 2, 8]\n",
    "print(sorted(a))"
   ]
  }
 ],
 "metadata": {
  "kernelspec": {
   "display_name": "Python 3",
   "language": "python",
   "name": "python3"
  },
  "language_info": {
   "codemirror_mode": {
    "name": "ipython",
    "version": 3
   },
   "file_extension": ".py",
   "mimetype": "text/x-python",
   "name": "python",
   "nbconvert_exporter": "python",
   "pygments_lexer": "ipython3",
   "version": "3.13.2"
  }
 },
 "nbformat": 4,
 "nbformat_minor": 2
}

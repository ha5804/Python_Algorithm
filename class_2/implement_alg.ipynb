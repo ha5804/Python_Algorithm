{
 "cells": [
  {
   "cell_type": "markdown",
   "metadata": {},
   "source": [
    "# 단어정렬\n",
    "    \n",
    "- 알파벳 소문자로 이루어진 N개의 단어를 길이가 짧고, 같으면 사전순으로 정렬하자."
   ]
  },
  {
   "cell_type": "markdown",
   "metadata": {},
   "source": [
    "    - (1) 길이비교\n",
    "    \n",
    "    - (2) 사전순 정렬"
   ]
  },
  {
   "cell_type": "code",
   "execution_count": null,
   "metadata": {},
   "outputs": [
    {
     "name": "stdout",
     "output_type": "stream",
     "text": [
      "[1, 2, 3, 4, 5]\n",
      "but\n",
      "i\n",
      "wont\n",
      "hesitate\n",
      "no\n"
     ]
    }
   ],
   "source": [
    "num_word = int(input())\n",
    "word = []\n",
    "len_word = []\n",
    "def check_order(word):\n",
    "    aldic = {\"a\": 0, \"b\": 1 , \"c\":2,\"d\":3,\"e\":4,\n",
    "    \"f\": 5, \"g\": 6 , \"h\":7,\"i\":8,\"k\":9,\n",
    "    \"l\": 10, \"m\": 11 , \"n\":12,\"o\":13,\"p\":14,\n",
    "    \"q\": 15, \"r\": 16 , \"s\":17,\"t\":18,\"u\":19,\n",
    "    \"v\": 20, \"w\": 21 , \"x\":22,\"y\":23,\"z\":24\n",
    "    }\n",
    "    val = 0\n",
    "    for k, v in aldic.items():\n",
    "        word[0] == k\n",
    "        val = v\n",
    "    return val\n",
    "word_dic = {}\n",
    "for i in range(num_word):\n",
    "    word_ob = input()\n",
    "    word_dic[word_ob] = len(word_ob)\n",
    "    #len_word.append(len(word))\n",
    "    #단어 갯수를 리스트로 저장하여 sorted를 이용하자.\n",
    "\n",
    "\n",
    "for word_dic in \n",
    "\n",
    "\n",
    "sorted_len_word = sorted(len_word)\n",
    "print(sorted_len_word)\n",
    "print_list = []\n",
    "for i in range(len(len_word)):\n",
    "    for j in range(1, len(len_word)):\n",
    "        if len_word[i] == len_word[j]:\n",
    "            if check_order(word[i]) < check_order(word[j]):\n",
    "                print(word[i])\n",
    "                break\n",
    "            else:\n",
    "                print(word[j])\n",
    "                break\n",
    "        else:\n",
    "            print(word[i])\n",
    "            break\n",
    "        \n",
    "\n",
    "    \n",
    "    "
   ]
  },
  {
   "cell_type": "code",
   "execution_count": null,
   "metadata": {},
   "outputs": [
    {
     "name": "stdout",
     "output_type": "stream",
     "text": [
      "[1, 2, 3, 5, 8]\n"
     ]
    }
   ],
   "source": [
    "a = [ 1, 3, 5, 2, 8]\n",
    "print(sorted(a))"
   ]
  }
 ],
 "metadata": {
  "kernelspec": {
   "display_name": "Python 3",
   "language": "python",
   "name": "python3"
  },
  "language_info": {
   "codemirror_mode": {
    "name": "ipython",
    "version": 3
   },
   "file_extension": ".py",
   "mimetype": "text/x-python",
   "name": "python",
   "nbconvert_exporter": "python",
   "pygments_lexer": "ipython3",
   "version": "3.13.2"
  }
 },
 "nbformat": 4,
 "nbformat_minor": 2
}

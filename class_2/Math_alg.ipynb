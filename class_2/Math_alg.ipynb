{
 "cells": [
  {
   "cell_type": "markdown",
   "metadata": {},
   "source": [
    "# 올림계산(Welcom Kit)"
   ]
  },
  {
   "cell_type": "code",
   "execution_count": 6,
   "metadata": {},
   "outputs": [
    {
     "ename": "ValueError",
     "evalue": "too many values to unpack (expected 2)",
     "output_type": "error",
     "traceback": [
      "\u001b[31m---------------------------------------------------------------------------\u001b[39m",
      "\u001b[31mValueError\u001b[39m                                Traceback (most recent call last)",
      "\u001b[36mCell\u001b[39m\u001b[36m \u001b[39m\u001b[32mIn[6]\u001b[39m\u001b[32m, line 3\u001b[39m\n\u001b[32m      1\u001b[39m N = \u001b[38;5;28mint\u001b[39m(\u001b[38;5;28minput\u001b[39m())\n\u001b[32m      2\u001b[39m each_size = \u001b[38;5;28mlist\u001b[39m(\u001b[38;5;28mmap\u001b[39m(\u001b[38;5;28mint\u001b[39m, \u001b[38;5;28minput\u001b[39m().split()))\n\u001b[32m----> \u001b[39m\u001b[32m3\u001b[39m t , p = \u001b[38;5;28minput\u001b[39m().split()\n\u001b[32m      4\u001b[39m t = \u001b[38;5;28mint\u001b[39m(t)\n\u001b[32m      5\u001b[39m p = \u001b[38;5;28mint\u001b[39m(p)\n",
      "\u001b[31mValueError\u001b[39m: too many values to unpack (expected 2)"
     ]
    }
   ],
   "source": [
    "N = int(input())\n",
    "each_size = list(map(int, input().split()))\n",
    "t , p = input().split()\n",
    "t = int(t)\n",
    "p = int(p)\n",
    "t_count = 0\n",
    "for i in each_size:\n",
    "    if i == 0:\n",
    "        t_count += 0\n",
    "    elif 0< i < t:\n",
    "        t_count += 1\n",
    "    elif i % t == 0:\n",
    "        t_count += (i // t)\n",
    "    \n",
    "    else:\n",
    "        val = i // t\n",
    "        t_count += (val + 1)\n",
    "val_p = N // p\n",
    "val_p_2 = N % p\n",
    "print(t_count)\n",
    "print(val_p, val_p_2)\n",
    "\n",
    "#### 올림계산은 (t + p - 1) // t 로도 가능"
   ]
  },
  {
   "cell_type": "markdown",
   "metadata": {},
   "source": [
    "# 소수찾기\n",
    "\n",
    "- 2 보다 크거나 같은 수 n에 대하여, √n 을 씌워 1부터 나눈다.\n",
    "해당 결과가 정수이면 소수.\n",
    "\n"
   ]
  },
  {
   "cell_type": "code",
   "execution_count": 9,
   "metadata": {},
   "outputs": [
    {
     "name": "stdout",
     "output_type": "stream",
     "text": [
      "3\n"
     ]
    }
   ],
   "source": [
    "def is_prime(num):\n",
    "    if num < 2:\n",
    "        return False\n",
    "    for i in range(2, int(num ** 0.5) + 1):\n",
    "        #2, √n까지이므로 +1 추가 꼭하기\n",
    "        if (num % i == 0):\n",
    "            return False\n",
    "    \n",
    "    return True\n",
    "\n",
    "#√n까지 중에서 만약 나머지 0 되는 숫자 존재하면, 소수가 아니다.\n",
    "#ex) 16 - 4, 2 % 4 = 0, not pirme\n",
    "\n",
    "\n",
    "a = int(input())\n",
    "\n",
    "count = 0\n",
    "num_list = list(map(int, input().split()))\n",
    "\n",
    "for num in num_list:\n",
    "    if is_prime(num) is True:\n",
    "        count +=1\n",
    "\n",
    "print(count)\n",
    "        \n",
    "\n",
    "    \n",
    "\n",
    "    "
   ]
  },
  {
   "cell_type": "markdown",
   "metadata": {},
   "source": [
    "# 블랙잭"
   ]
  },
  {
   "cell_type": "code",
   "execution_count": null,
   "metadata": {},
   "outputs": [
    {
     "name": "stdout",
     "output_type": "stream",
     "text": [
      "500\n"
     ]
    }
   ],
   "source": [
    "a , b= (input().split())\n",
    "a = int(a)\n",
    "b = int(b)\n",
    "num = list(map(int , input().split()))\n",
    "length = len(num)\n",
    "min = 0\n",
    "max_val = b\n",
    "for i in range(length):\n",
    "    for j in range(i+1, length):\n",
    "        for k in range(j+1 , length):\n",
    "            sum_th = num[i] + num[j] + num[k]\n",
    "            if (sum_th > min and sum_th <= max):\n",
    "                min = sum_th\n",
    "print(min)\n",
    "                \n",
    "            \n",
    "            \n"
   ]
  },
  {
   "cell_type": "markdown",
   "metadata": {},
   "source": [
    "# 펠린드롬수\n",
    "    \n",
    "    -revesred이용\n",
    "\n",
    "    num == num[::-1] 슬라이싱 방법 이용 가능"
   ]
  },
  {
   "cell_type": "code",
   "execution_count": null,
   "metadata": {},
   "outputs": [
    {
     "name": "stdout",
     "output_type": "stream",
     "text": [
      "yes\n",
      "yes\n",
      "yes\n",
      "yes\n",
      "no\n",
      "no\n"
     ]
    }
   ],
   "source": [
    "def pelindrom(num):\n",
    "    length = len(num)\n",
    "    if length % 2 == 0:\n",
    "        median = int(length / 2)\n",
    "        if num[:median] == list(reversed(num[median:])):\n",
    "            print('yes')\n",
    "        else:\n",
    "            print('no')\n",
    "    else:\n",
    "        median = int(length / 2)\n",
    "        if num[:median] == list(reversed(num[median+1:])):\n",
    "            print('yes')\n",
    "        else:\n",
    "            print('no')\n",
    "\n",
    "\n",
    "while True:\n",
    "    a = list(input())\n",
    "    if a == [\"0\"]:\n",
    "        break\n",
    "    pelindrom(a)\n",
    "\n",
    "\n",
    "    \n"
   ]
  },
  {
   "cell_type": "markdown",
   "metadata": {},
   "source": [
    "# 새로운 평균 구하기"
   ]
  },
  {
   "cell_type": "code",
   "execution_count": null,
   "metadata": {},
   "outputs": [
    {
     "name": "stdout",
     "output_type": "stream",
     "text": [
      "75.0\n"
     ]
    }
   ],
   "source": [
    "a = int(input())\n",
    "score_list = list(map(int , input().split()))\n",
    "max_score = max(score_list)\n",
    "change_score = []\n",
    "for score in score_list:\n",
    "    new_score = (score/max_score * 100)\n",
    "    change_score.append(new_score)\n",
    "\n",
    "sum_change = sum(change_score)\n",
    "mean = sum_change / a\n",
    "print(mean)\n"
   ]
  },
  {
   "cell_type": "markdown",
   "metadata": {},
   "source": [
    "# 최대공약수 최소공배수"
   ]
  },
  {
   "cell_type": "markdown",
   "metadata": {},
   "source": [
    "### Euclidean Algorithm\n",
    "\n",
    "- A 와 B의 나머지가 R일때, A,B의 최대공약수와 B와 R의 최대공약수는 같다.\n",
    "이때 R이 0이 될때 B가 최대공약수이다.\n",
    "즉 a , b를 a 에 b를, b 에 a % b를 반복 할당한다.\n",
    "\n",
    "- 최소공배수는 A , B 의 곱을 A, B의 최대공약수로 나눈것."
   ]
  },
  {
   "cell_type": "code",
   "execution_count": null,
   "metadata": {},
   "outputs": [
    {
     "name": "stdout",
     "output_type": "stream",
     "text": [
      "6\n",
      "72\n"
     ]
    }
   ],
   "source": [
    "a , b = (input().split())\n",
    "a = int(a)\n",
    "b = int(b)\n",
    "\n",
    "def gcd(a, b):\n",
    "    while b!= 0:\n",
    "        a, b = b, a % b\n",
    "    return a\n",
    "\n",
    "def lcm(a, b):\n",
    "    return int((a * b) / gcd(a, b))\n",
    "\n",
    "print(gcd(a,b))\n",
    "print(lcm(a,b))\n",
    "        "
   ]
  }
 ],
 "metadata": {
  "kernelspec": {
   "display_name": "Python 3",
   "language": "python",
   "name": "python3"
  },
  "language_info": {
   "codemirror_mode": {
    "name": "ipython",
    "version": 3
   },
   "file_extension": ".py",
   "mimetype": "text/x-python",
   "name": "python",
   "nbconvert_exporter": "python",
   "pygments_lexer": "ipython3",
   "version": "3.13.2"
  }
 },
 "nbformat": 4,
 "nbformat_minor": 2
}

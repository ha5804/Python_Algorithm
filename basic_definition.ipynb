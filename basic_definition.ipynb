{
 "cells": [
  {
   "cell_type": "markdown",
   "metadata": {},
   "source": [
    "# PYTHON_BASIC_DEFINITION\n",
    "\n",
    "    (1)String"
   ]
  },
  {
   "cell_type": "code",
   "execution_count": null,
   "metadata": {},
   "outputs": [
    {
     "name": "stdout",
     "output_type": "stream",
     "text": [
      "['I', 'am', 'tae', 'ha', 'young']\n",
      "['I', ' ', 'a', 'm', ' ', 't', 'a', 'e', ' ', 'h', 'a', ' ', 'y', 'o', 'u', 'n', 'g']\n",
      "Iamtaehayoung\n",
      " am \n"
     ]
    }
   ],
   "source": [
    "ex = \"I am tae ha young\"\n",
    "ex_list = ex.split()\n",
    "#공백 기준 리스트화\n",
    "print(ex_list)\n",
    "\n",
    "ex_list_char = list(ex)\n",
    "print(ex_list_char)\n",
    "#list로 변환하면 모든 char단위로 리스트 반환\n",
    "\n",
    "ex_compact = ex.replace(\" \",\"\")\n",
    "print(ex_compact)\n",
    "#replace로 공백 제거 가능!\n",
    "\n",
    "ex_slice = ex[1:5]\n",
    "print(ex_slice)\n",
    "#문자열 슬라이싱 가능!\n",
    "\n",
    "\n"
   ]
  },
  {
   "cell_type": "markdown",
   "metadata": {},
   "source": [
    "    (2)map(my_def, iterable object)\n",
    "\n",
    "    map함수는 반복 가능한 객체(리스트 튜플)에 my_def를 모든 요소에 적용"
   ]
  },
  {
   "cell_type": "code",
   "execution_count": null,
   "metadata": {},
   "outputs": [
    {
     "name": "stdout",
     "output_type": "stream",
     "text": [
      "[1, 2, 3]\n"
     ]
    }
   ],
   "source": [
    "ex = [\"1\", \"2\", \"3\"]\n",
    "ex_list = list(map(int, ex))\n",
    "print(ex_list)"
   ]
  },
  {
   "cell_type": "markdown",
   "metadata": {},
   "source": [
    "    (3)List"
   ]
  },
  {
   "cell_type": "code",
   "execution_count": null,
   "metadata": {},
   "outputs": [],
   "source": [
    "ex_list = [1, 2, 3, 4, 5]\n",
    "max_val = max(ex_list)\n",
    "#max함수를 통해 list의 최대값을 알 수 있다.\n",
    "\n",
    "index_val = ex_list.index(max_val) + 1\n",
    "#index 함수를 통해 해당 리스트의 인덱스 번호를 알 수 있다.\n"
   ]
  },
  {
   "cell_type": "markdown",
   "metadata": {},
   "source": [
    "    (4)JOIN\n",
    "    '구분자'.join([list_comprehension])"
   ]
  },
  {
   "cell_type": "code",
   "execution_count": 9,
   "metadata": {},
   "outputs": [
    {
     "name": "stdout",
     "output_type": "stream",
     "text": [
      "Hello\n"
     ]
    }
   ],
   "source": [
    "my_list = [\"H\", \"e\",\"l\",\"l\",\"o\"]\n",
    "print(''.join([char for char in my_list]))"
   ]
  },
  {
   "cell_type": "markdown",
   "metadata": {},
   "source": [
    "    (4) Slicing"
   ]
  },
  {
   "cell_type": "code",
   "execution_count": null,
   "metadata": {},
   "outputs": [
    {
     "name": "stdout",
     "output_type": "stream",
     "text": [
      "[20, 30, 40]\n",
      "[10, 20, 30, 40, 50, 60, 70]\n",
      "70\n",
      "[70, 60, 50, 40, 30, 20, 10]\n",
      "[10, 30, 50, 70]\n"
     ]
    }
   ],
   "source": [
    "lst = [10, 20, 30, 40, 50, 60 , 70]\n",
    "print(lst[1:4])\n",
    "print(lst[:])\n",
    "print(lst[-1]) #마지막 요소\n",
    "print(lst[::-1]) #역순 모두출력\n",
    "print(lst[::2]) #2칸 간격 추출\n"
   ]
  },
  {
   "cell_type": "markdown",
   "metadata": {},
   "source": [
    "    (5) Sort()"
   ]
  },
  {
   "cell_type": "code",
   "execution_count": null,
   "metadata": {},
   "outputs": [
    {
     "name": "stdout",
     "output_type": "stream",
     "text": [
      "apple\n",
      "banna\n",
      "pear\n"
     ]
    }
   ],
   "source": [
    "my_list = [\"banna\",\"apple\", \"pear\"]\n",
    "my_list.sort()\n",
    "my_list.sort(key = len)\n",
    "for i in my_list:\n",
    "    print(i)"
   ]
  }
 ],
 "metadata": {
  "kernelspec": {
   "display_name": "Python 3",
   "language": "python",
   "name": "python3"
  },
  "language_info": {
   "codemirror_mode": {
    "name": "ipython",
    "version": 3
   },
   "file_extension": ".py",
   "mimetype": "text/x-python",
   "name": "python",
   "nbconvert_exporter": "python",
   "pygments_lexer": "ipython3",
   "version": "3.13.2"
  }
 },
 "nbformat": 4,
 "nbformat_minor": 2
}

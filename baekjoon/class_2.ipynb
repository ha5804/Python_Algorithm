{
 "cells": [
  {
   "cell_type": "markdown",
   "metadata": {},
   "source": [
    "# 올림계산(Welcom Kit)"
   ]
  },
  {
   "cell_type": "code",
   "execution_count": null,
   "metadata": {},
   "outputs": [
    {
     "name": "stdout",
     "output_type": "stream",
     "text": [
      "7\n",
      "3 2\n"
     ]
    }
   ],
   "source": [
    "N = int(input())\n",
    "each_size = list(map(int, input().split()))\n",
    "t , p = input().split()\n",
    "t = int(t)\n",
    "p = int(p)\n",
    "t_count = 0\n",
    "for i in each_size:\n",
    "    if i == 0:\n",
    "        t_count += 0\n",
    "    elif 0< i < t:\n",
    "        t_count += 1\n",
    "    elif i % t == 0:\n",
    "        t_count += (i // t)\n",
    "    \n",
    "    else:\n",
    "        val = i // t\n",
    "        t_count += (val + 1)\n",
    "val_p = N // p\n",
    "val_p_2 = N % p\n",
    "print(t_count)\n",
    "print(val_p, val_p_2)\n",
    "\n",
    "#### 올림계산은 (t + p - 1) // t 로도 가능"
   ]
  },
  {
   "cell_type": "markdown",
   "metadata": {},
   "source": [
    "# 소수찾기"
   ]
  },
  {
   "cell_type": "code",
   "execution_count": 12,
   "metadata": {},
   "outputs": [
    {
     "name": "stdout",
     "output_type": "stream",
     "text": [
      "16\n"
     ]
    }
   ],
   "source": [
    "a = int(input())\n",
    "count = 0\n",
    "#시프트 + 탭 - 들여쓰기 제거\n",
    "\n",
    "num = list(map(int, (input().split())))\n",
    "for i in num:\n",
    "    if i == 1:\n",
    "        count += 0\n",
    "    for j in range(i):\n",
    "        if ((j+1) != 1) and (i != (j+1)) and (i % (j+1) == 0):\n",
    "            break\n",
    "        else:\n",
    "            count += 1\n",
    "print(count)\n",
    "            \n",
    "            \n",
    "\n",
    "    "
   ]
  }
 ],
 "metadata": {
  "kernelspec": {
   "display_name": "Python 3",
   "language": "python",
   "name": "python3"
  },
  "language_info": {
   "codemirror_mode": {
    "name": "ipython",
    "version": 3
   },
   "file_extension": ".py",
   "mimetype": "text/x-python",
   "name": "python",
   "nbconvert_exporter": "python",
   "pygments_lexer": "ipython3",
   "version": "3.13.2"
  }
 },
 "nbformat": 4,
 "nbformat_minor": 2
}
